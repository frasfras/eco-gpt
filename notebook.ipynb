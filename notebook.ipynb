{
 "cells": [
  {
   "cell_type": "markdown",
   "metadata": {},
   "source": [
    "# 📊 Colab App Demo\n",
    "\n",
    "This notebook demonstrates a simple Google Colab app using sample data and a helper function."
   ]
  },
  {
   "cell_type": "code",
   "execution_count": null,
   "metadata": {},
   "outputs": [],
   "source": [
    "# Install dependencies (only in Colab)\n",
    "!pip install -q gradio pandas"
   ]
  },
  {
   "cell_type": "code",
   "execution_count": null,
   "metadata": {},
   "outputs": [],
   "source": [
    "# Imports\n",
    "import pandas as pd\n",
    "import sys\n",
    "from pathlib import Path\n",
    "\n",
    "# Add src folder to path\n",
    "src_path = Path.cwd() / \"src\"\n",
    "sys.path.append(str(src_path))\n",
    "\n",
    "from utils import greet_user"
   ]
  },
  {
   "cell_type": "code",
   "execution_count": null,
   "metadata": {},
   "outputs": [],
   "source": [
    "# Load sample data\n",
    "df = pd.read_csv(\"examples/sample_input.csv\")\n",
    "df"
   ]
  },
  {
   "cell_type": "code",
   "execution_count": null,
   "metadata": {},
   "outputs": [],
   "source": [
    "# Use helper function\n",
    "for name in df[\"name\"].head():\n",
    "    print(greet_user(name))"
   ]
  },
  {
   "cell_type": "code",
   "execution_count": null,
   "metadata": {},
   "outputs": [],
   "source": [
    "# Build simple Gradio app\n",
    "import gradio as gr\n",
    "\n",
    "def app(name):\n",
    "    return greet_user(name)\n",
    "\n",
    "demo = gr.Interface(fn=app, inputs=\"text\", outputs=\"text\", title=\"Greeting App\")\n",
    "demo.launch(share=True)"
   ]
  }
 ],
 "metadata": {
  "colab": {
   "provenance": []
  },
  "kernelspec": {
   "display_name": "Python 3",
   "language": "python",
   "name": "python3"
  },
  "language_info": {
   "name": "python",
   "version": "3.10"
  }
 },
 "nbformat": 4,
 "nbformat_minor": 0
}
